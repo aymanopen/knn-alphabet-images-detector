{
 "cells": [
  {
   "cell_type": "code",
   "execution_count": 1,
   "metadata": {
    "collapsed": true
   },
   "outputs": [],
   "source": [
    "from packages_alphabet_detect.noisyfunctions import *\n",
    "from collections import Counter\n",
    "\n",
    "#alphabets, where each index from 0 to 25, for example alphabet[0]=a,...etc\n",
    "alphabet=list(map(chr, range(97, 123)))"
   ]
  },
  {
   "cell_type": "code",
   "execution_count": 2,
   "metadata": {
    "collapsed": true
   },
   "outputs": [],
   "source": [
    "#get all images, where each image is saved as: [pixels dimensions, alphabet letter index, image name]\n",
    "# note I save the image name to be able to identify the \n",
    "training,testing=get_images(alphabet,path='Noise ')"
   ]
  },
  {
   "cell_type": "code",
   "execution_count": 3,
   "metadata": {},
   "outputs": [
    {
     "name": "stdout",
     "output_type": "stream",
     "text": [
      "6  sec.\n",
      "time for getting the sorted matrix  6.259654998779297  sec.\n"
     ]
    }
   ],
   "source": [
    "timea=time.time()\n",
    "alldistances_sorted=getDistancesMatrixSorted(training)\n",
    "print(\"time for getting the sorted matrix \",time.time()-timea,\" sec.\")\n",
    "allindicies=getAllIndicies(training,alphabet)\n",
    "\n"
   ]
  },
  {
   "cell_type": "code",
   "execution_count": 4,
   "metadata": {},
   "outputs": [],
   "source": [
    "time1=time.time()\n",
    "\n",
    "# this is an array that will save the error per k value, for eg the error of k=1 is all_kerrors[0]\n",
    "all_kerrors=[]\n",
    "\n",
    "#loop for every value of k of nearest neighbors from 1 to 100\n",
    "for k in range(1,101):\n",
    "    # an array that will have the error of each cross validation cycle, so after 10 times it will have something like: [2,3,4,5,2,3,2,4,5,6], so at the end we will average them to assign an error value corresponding to this k, and append it in all_kerrors above\n",
    "    k_cv_errorlist=[]\n",
    "    #cross validation is done 10 times and we take the average of them for each value of k in the bigger loop\n",
    "    for x in range(10):\n",
    "        #split the training data to 80% fit and 20% validation for each letter and randomely\n",
    "        train80,train20=splitrandomlist(0.8,allindicies)\n",
    "        #return the nearest k neighbors' alphabet \n",
    "        nearestKPoints=getKresultslist(k,train20,alldistances_sorted)\n",
    "\n",
    "        #check if the majority of the neighbors is not like the alphabet they are supposed to be\n",
    "    k_cv_errorlist.append(len(getErrorList(nearestKPoints,alldistances_sorted)))\n",
    "    k_cv_error_avg=sum(k_cv_errorlist)/len(k_cv_errorlist)\n",
    "    all_kerrors.append(k_cv_error_avg)"
   ]
  },
  {
   "cell_type": "code",
   "execution_count": 5,
   "metadata": {},
   "outputs": [
    {
     "name": "stdout",
     "output_type": "stream",
     "text": [
      "time for 100 k with 10 cross validations  1.2662386894226074  sec.\n"
     ]
    }
   ],
   "source": [
    "\n",
    "#all_kerrors\n",
    "print(\"time for 100 k with 10 cross validations \",time.time()-time1,\" sec.\")\n",
    "\n"
   ]
  },
  {
   "cell_type": "code",
   "execution_count": 6,
   "metadata": {},
   "outputs": [
    {
     "data": {
      "image/png": "[encoded data removed]",
      "text/plain": [
       "<matplotlib.figure.Figure at 0x7efd8c415240>"
      ]
     },
     "metadata": {},
     "output_type": "display_data"
    }
   ],
   "source": [
    "plt.figure(figsize=[17,7])\n",
    "plt.bar(range(len(all_kerrors)),np.array(all_kerrors),color='#ff9408',label=\"K results\")\n",
    "#plt.bar(range(len(final_results)),np.array(final_results).T[0].T,color='#047495',label='Correct Prediction Count')\n",
    "plt.xlabel('K val')\n",
    "plt.ylabel('Number of missclassified by k',)\n",
    "plt.legend(framealpha=1)\n",
    "plt.label=\"\"\n",
    "plt.xticks(range(len(all_kerrors)),range(1,101))\n",
    "#plt.yticks(range(3))\n",
    "plt.show()\n",
    "#plt.savefig('KNN.jpg')"
   ]
  },
  {
   "cell_type": "code",
   "execution_count": 7,
   "metadata": {},
   "outputs": [
    {
     "name": "stdout",
     "output_type": "stream",
     "text": [
      "Best K:  7 and value  1.0\n"
     ]
    }
   ],
   "source": [
    "lowestk=101\n",
    "lowestk_index=-1\n",
    "for kindex,kval in enumerate(all_kerrors):\n",
    "    if kval<lowestk:\n",
    "        lowestk=kval\n",
    "        lowestk_index=kindex+1\n",
    "print(\"Best K: \", lowestk_index,\"and value \",lowestk) \n",
    "\n",
    "k=lowestk_index\n"
   ]
  },
  {
   "cell_type": "markdown",
   "metadata": {},
   "source": [
    "### Part 2: classification"
   ]
  },
  {
   "cell_type": "code",
   "execution_count": 8,
   "metadata": {
    "collapsed": true
   },
   "outputs": [],
   "source": [
    "#this is the array that will save the # of correctly identified test points\n",
    "correctclass=np.zeros(len(alphabet))\n",
    "for i,testelem in enumerate(testing):\n",
    "    templist=calculatenearestk(k,testelem[0],training)\n",
    "\n",
    "    if testelem[1]==(getMajority(templist)):\n",
    "        correctclass[testelem[1]]+=1\n"
   ]
  },
  {
   "cell_type": "code",
   "execution_count": 9,
   "metadata": {},
   "outputs": [
    {
     "data": {
      "image/png": "[encoded data removed]",
      "text/plain": [
       "<matplotlib.figure.Figure at 0x7efd84457cc0>"
      ]
     },
     "metadata": {},
     "output_type": "display_data"
    }
   ],
   "source": [
    "\n",
    "plt.figure(figsize=[17,7])\n",
    "plt.bar(range(len(correctclass)),np.array(correctclass),label=\"Correctly Classified\")\n",
    "#plt.bar(range(len(final_results)),np.array(final_results).T[0].T,color='#047495',label='Correct Prediction Count')\n",
    "plt.xlabel('Letter')\n",
    "plt.ylabel('Number of correct classification',)\n",
    "plt.legend(framealpha=1)\n",
    "plt.label=\"\"\n",
    "plt.xticks(range(len(correctclass)),alphabet)\n",
    "#plt.yticks(range(3))\n",
    "plt.show()\n",
    "#plt.savefig('Accuracy.jpg')"
   ]
  },
  {
   "cell_type": "code",
   "execution_count": null,
   "metadata": {
    "collapsed": true
   },
   "outputs": [],
   "source": []
  },
  {
   "cell_type": "code",
   "execution_count": null,
   "metadata": {
    "collapsed": true
   },
   "outputs": [],
   "source": []
  }
 ],
 "metadata": {
  "kernelspec": {
   "display_name": "Python 3",
   "language": "python",
   "name": "python3"
  },
  "language_info": {
   "codemirror_mode": {
    "name": "ipython",
    "version": 3
   },
   "file_extension": ".py",
   "mimetype": "text/x-python",
   "name": "python",
   "nbconvert_exporter": "python",
   "pygments_lexer": "ipython3",
   "version": "3.6.2"
  }
 },
 "nbformat": 4,
 "nbformat_minor": 2
}
